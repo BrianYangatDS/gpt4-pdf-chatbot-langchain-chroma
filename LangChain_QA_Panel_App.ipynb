{
  "cells": [
    {
      "cell_type": "markdown",
      "metadata": {
        "id": "view-in-github",
        "colab_type": "text"
      },
      "source": [
        "<a href=\"https://colab.research.google.com/github/BrianYangatDS/gpt4-pdf-chatbot-langchain-chroma/blob/main/LangChain_QA_Panel_App.ipynb\" target=\"_parent\"><img src=\"https://colab.research.google.com/assets/colab-badge.svg\" alt=\"Open In Colab\"/></a>"
      ]
    },
    {
      "cell_type": "markdown",
      "id": "04815d1b-44ee-4bd3-878e-fa0c3bf9fa7f",
      "metadata": {
        "tags": [],
        "id": "04815d1b-44ee-4bd3-878e-fa0c3bf9fa7f"
      },
      "source": [
        "# LangChain QA Panel App\n",
        "\n",
        "This notebook shows how to make this app:"
      ]
    },
    {
      "cell_type": "code",
      "execution_count": null,
      "id": "a181568b-9cde-4a55-a853-4d2a41dbfdad",
      "metadata": {
        "tags": [],
        "id": "a181568b-9cde-4a55-a853-4d2a41dbfdad"
      },
      "outputs": [],
      "source": [
        "!pip install langchain openai chromadb tiktoken pypdf panel\n"
      ]
    },
    {
      "cell_type": "code",
      "source": [
        "!pip install unstructured"
      ],
      "metadata": {
        "id": "YxfS8t60MUyL"
      },
      "id": "YxfS8t60MUyL",
      "execution_count": null,
      "outputs": []
    },
    {
      "cell_type": "code",
      "execution_count": 2,
      "id": "9a464409-d064-4766-a9cb-5119f6c4b8f5",
      "metadata": {
        "tags": [],
        "id": "9a464409-d064-4766-a9cb-5119f6c4b8f5"
      },
      "outputs": [],
      "source": [
        "import os\n",
        "from langchain.chains import RetrievalQA\n",
        "from langchain.llms import OpenAI\n",
        "from langchain.document_loaders import TextLoader\n",
        "from langchain.document_loaders import PyPDFLoader\n",
        "from langchain.indexes import VectorstoreIndexCreator\n",
        "from langchain.text_splitter import CharacterTextSplitter\n",
        "from langchain.embeddings import OpenAIEmbeddings\n",
        "from langchain.vectorstores import Chroma\n",
        "import panel as pn\n",
        "import tempfile\n",
        "from langchain.document_loaders import UnstructuredURLLoader"
      ]
    },
    {
      "cell_type": "code",
      "source": [
        "urls = [\n",
        "    \"https://www.ib.gov.tw/ch/home.jsp?id=42&parentpath=0,2&mcustomize=multimessages_view.jsp&dataserno=202309130002&dtable=Penalty\"\n",
        "]"
      ],
      "metadata": {
        "id": "H2FJpFHSLgMO"
      },
      "id": "H2FJpFHSLgMO",
      "execution_count": 36,
      "outputs": []
    },
    {
      "cell_type": "code",
      "source": [
        "loader = UnstructuredURLLoader(urls=urls)\n",
        "data = loader.load()"
      ],
      "metadata": {
        "id": "CUFnJ7zmLjEb"
      },
      "id": "CUFnJ7zmLjEb",
      "execution_count": 37,
      "outputs": []
    },
    {
      "cell_type": "code",
      "source": [
        "data"
      ],
      "metadata": {
        "id": "nMiLpa0-Mdv8",
        "outputId": "feabc613-711c-4223-ae38-efc6902f0410",
        "colab": {
          "base_uri": "https://localhost:8080/"
        }
      },
      "id": "nMiLpa0-Mdv8",
      "execution_count": 38,
      "outputs": [
        {
          "output_type": "execute_result",
          "data": {
            "text/plain": [
              "[Document(page_content='選單\\n\\n跳到主要內容區塊\\n\\n金管會\\n\\n銀行局\\n\\n證期局\\n\\n保險局\\n\\n檢查局\\n\\n:::\\r\\n\\t            \\r\\n\\r\\n回首頁|\\r\\n網站導覽|\\r\\nEnglish|\\r\\n常見問答|\\r\\n聯絡我們|\\r\\n雙語詞彙 |\\r\\n|\\r\\n|\\r\\n\\r\\n\\t            \\r\\n\\r\\n字級:\\r\\n小\\r\\n中\\r\\n大\\n\\n\\n\\n搜尋\\r\\n    \\r\\n  搜尋\\n\\n關鍵字\\n\\n地震保險\\r\\n    \\t    \\t|\\n\\n強制車險\\r\\n    \\t    \\t|\\n\\n旅平險\\r\\n    \\t    \\t|\\n\\nRBC\\n\\n法規檢索\\n\\n回首頁\\n\\n機關介紹\\r\\n    \\t\\t      \\r\\n    \\t\\t    \\t  \\r\\n    \\t\\t    \\t    \\r\\n    \\t\\t    \\t    \\t  \\r\\n    \\t\\t    \\t    \\t    \\r\\n    \\t\\t    \\t    \\t    \\t  首長簡介\\r\\n    \\t\\t    \\t    \\t      \\r\\n    \\t\\t    \\t    \\t  \\r\\n    \\t\\t    \\t      \\r\\n    \\t\\t    \\t    \\t  \\r\\n    \\t\\t    \\t    \\t    \\r\\n    \\t\\t    \\t    \\t    \\t  組織架構\\r\\n    \\t\\t    \\t    \\t      \\r\\n    \\t\\t    \\t    \\t  \\r\\n    \\t\\t    \\t      \\r\\n    \\t\\t    \\t    \\t  \\r\\n    \\t\\t    \\t    \\t    \\r\\n    \\t\\t    \\t    \\t    \\t  首長言論集\\r\\n    \\t\\t    \\t    \\t      \\r\\n    \\t\\t    \\t    \\t  \\r\\n    \\t\\t    \\t      \\r\\n    \\t\\t    \\t    \\t  \\r\\n    \\t\\t    \\t    \\t    \\r\\n    \\t\\t    \\t    \\t    \\t  沿革\\r\\n    \\t\\t    \\t    \\t      \\r\\n    \\t\\t    \\t    \\t  \\r\\n    \\t\\t    \\t      \\r\\n    \\t\\t    \\t    \\t  \\r\\n    \\t\\t    \\t    \\t    \\r\\n    \\t\\t    \\t    \\t    \\t  機關聯絡資訊\\r\\n    \\t\\t    \\t    \\t      \\r\\n    \\t\\t    \\t    \\t  \\r\\n    \\t\\t    \\t      \\r\\n    \\t\\t    \\t    \\t  \\r\\n    \\t\\t    \\t    \\t    \\r\\n    \\t\\t    \\t    \\t    \\t\\t  影音平台\\n\\n公告資訊\\r\\n    \\t\\t      \\r\\n    \\t\\t    \\t  \\r\\n    \\t\\t    \\t    \\r\\n    \\t\\t    \\t    \\t  \\r\\n    \\t\\t    \\t    \\t    \\r\\n    \\t\\t    \\t    \\t    \\t  新聞稿與即時新聞澄清\\r\\n    \\t\\t    \\t    \\t      \\r\\n    \\t\\t    \\t    \\t  \\r\\n    \\t\\t    \\t      \\r\\n    \\t\\t    \\t    \\t  \\r\\n    \\t\\t    \\t    \\t    \\r\\n    \\t\\t    \\t    \\t    \\t  重大政策\\r\\n    \\t\\t    \\t    \\t      \\r\\n    \\t\\t    \\t    \\t  \\r\\n    \\t\\t    \\t      \\r\\n    \\t\\t    \\t    \\t  \\r\\n    \\t\\t    \\t    \\t    \\r\\n    \\t\\t    \\t    \\t    \\t  榮譽專區\\r\\n    \\t\\t    \\t    \\t      \\r\\n    \\t\\t    \\t    \\t  \\r\\n    \\t\\t    \\t      \\r\\n    \\t\\t    \\t    \\t  \\r\\n    \\t\\t    \\t    \\t    \\r\\n    \\t\\t    \\t    \\t    \\t  招標資訊\\r\\n    \\t\\t    \\t    \\t      \\r\\n    \\t\\t    \\t    \\t  \\r\\n    \\t\\t    \\t      \\r\\n    \\t\\t    \\t    \\t  \\r\\n    \\t\\t    \\t    \\t    \\r\\n    \\t\\t    \\t    \\t    \\t  國際活動\\r\\n    \\t\\t    \\t    \\t      \\r\\n    \\t\\t    \\t    \\t  \\r\\n    \\t\\t    \\t      \\r\\n    \\t\\t    \\t    \\t  \\r\\n    \\t\\t    \\t    \\t    \\r\\n    \\t\\t    \\t    \\t    \\t  重要公告\\r\\n    \\t\\t    \\t    \\t      \\r\\n    \\t\\t    \\t    \\t  \\r\\n    \\t\\t    \\t      \\r\\n    \\t\\t    \\t    \\t  \\r\\n    \\t\\t    \\t    \\t    \\r\\n    \\t\\t    \\t    \\t    \\t  個人資料保護專區\\r\\n    \\t\\t    \\t    \\t      \\r\\n    \\t\\t    \\t    \\t  \\r\\n    \\t\\t    \\t      \\r\\n    \\t\\t    \\t    \\t  \\r\\n    \\t\\t    \\t    \\t    \\r\\n    \\t\\t    \\t    \\t    \\t  徵才資訊\\r\\n    \\t\\t    \\t    \\t      \\r\\n    \\t\\t    \\t    \\t  \\r\\n    \\t\\t    \\t      \\r\\n    \\t\\t    \\t    \\t  \\r\\n    \\t\\t    \\t    \\t    \\r\\n    \\t\\t    \\t    \\t    \\t  裁罰案件\\n\\n法規資訊\\r\\n    \\t\\t      \\r\\n    \\t\\t    \\t  \\r\\n    \\t\\t    \\t    \\r\\n    \\t\\t    \\t    \\t  \\r\\n    \\t\\t    \\t    \\t    \\r\\n    \\t\\t    \\t    \\t    \\t  最新法令函釋\\r\\n    \\t\\t    \\t    \\t      \\r\\n    \\t\\t    \\t    \\t  \\r\\n    \\t\\t    \\t      \\r\\n    \\t\\t    \\t    \\t  \\r\\n    \\t\\t    \\t    \\t    \\r\\n    \\t\\t    \\t    \\t    \\t  法規草案預告\\r\\n    \\t\\t    \\t    \\t      \\r\\n    \\t\\t    \\t    \\t  \\r\\n    \\t\\t    \\t      \\r\\n    \\t\\t    \\t    \\t  \\r\\n    \\t\\t    \\t    \\t    \\r\\n    \\t\\t    \\t    \\t    \\t  保險法及相關法規\\r\\n    \\t\\t    \\t    \\t      \\r\\n    \\t\\t    \\t    \\t  \\r\\n    \\t\\t    \\t      \\r\\n    \\t\\t    \\t    \\t  \\r\\n    \\t\\t    \\t    \\t    \\r\\n    \\t\\t    \\t    \\t    \\t  強制汽車責任保險法及相關法規\\r\\n    \\t\\t    \\t    \\t      \\r\\n    \\t\\t    \\t    \\t  \\r\\n    \\t\\t    \\t      \\r\\n    \\t\\t    \\t    \\t  \\r\\n    \\t\\t    \\t    \\t    \\r\\n    \\t\\t    \\t    \\t    \\t  行政規則\\r\\n    \\t\\t    \\t    \\t      \\r\\n    \\t\\t    \\t    \\t  \\r\\n    \\t\\t    \\t      \\r\\n    \\t\\t    \\t    \\t  \\r\\n    \\t\\t    \\t    \\t     \\r\\n    \\t\\t    \\t    \\t    \\t\\t  保險法令判解查詢系統\\n\\n金融資訊\\r\\n    \\t\\t      \\r\\n    \\t\\t    \\t  \\r\\n    \\t\\t    \\t    \\r\\n    \\t\\t    \\t    \\t  \\r\\n    \\t\\t    \\t    \\t    \\r\\n    \\t\\t    \\t    \\t    \\t  保險業務資訊揭露維護\\r\\n    \\t\\t    \\t    \\t      \\r\\n    \\t\\t    \\t    \\t  \\r\\n    \\t\\t    \\t      \\r\\n    \\t\\t    \\t    \\t  \\r\\n    \\t\\t    \\t    \\t    \\r\\n    \\t\\t    \\t    \\t    \\t  統計資料\\r\\n    \\t\\t    \\t    \\t      \\r\\n    \\t\\t    \\t    \\t  \\r\\n    \\t\\t    \\t      \\r\\n    \\t\\t    \\t    \\t  \\r\\n    \\t\\t    \\t    \\t    \\r\\n    \\t\\t    \\t    \\t    \\t  資訊圖像化\\r\\n    \\t\\t    \\t    \\t      \\r\\n    \\t\\t    \\t    \\t  \\r\\n    \\t\\t    \\t      \\r\\n    \\t\\t    \\t    \\t  \\r\\n    \\t\\t    \\t    \\t    \\r\\n    \\t\\t    \\t    \\t    \\t  出版品\\n\\n消費者園地\\r\\n    \\t\\t      \\r\\n    \\t\\t    \\t  \\r\\n    \\t\\t    \\t    \\r\\n    \\t\\t    \\t    \\t  \\r\\n    \\t\\t    \\t    \\t     \\r\\n    \\t\\t    \\t    \\t    \\t\\t  金融智慧網\\r\\n    \\t\\t    \\t    \\t    \\t  \\r\\n    \\t\\t    \\t    \\t  \\r\\n    \\t\\t    \\t      \\r\\n    \\t\\t    \\t    \\t  \\r\\n    \\t\\t    \\t    \\t    \\r\\n    \\t\\t    \\t    \\t    \\t  保險申訴及諮詢專區\\r\\n    \\t\\t    \\t    \\t      \\r\\n    \\t\\t    \\t    \\t  \\r\\n    \\t\\t    \\t      \\r\\n    \\t\\t    \\t    \\t  \\r\\n    \\t\\t    \\t    \\t    \\r\\n    \\t\\t    \\t    \\t    \\t  定型化契約範本\\r\\n    \\t\\t    \\t    \\t      \\r\\n    \\t\\t    \\t    \\t  \\r\\n    \\t\\t    \\t      \\r\\n    \\t\\t    \\t    \\t  \\r\\n    \\t\\t    \\t    \\t    \\r\\n    \\t\\t    \\t    \\t    \\t  消費者保護\\r\\n    \\t\\t    \\t    \\t      \\r\\n    \\t\\t    \\t    \\t  \\r\\n    \\t\\t    \\t      \\r\\n    \\t\\t    \\t    \\t  \\r\\n    \\t\\t    \\t    \\t    \\r\\n    \\t\\t    \\t    \\t    \\t  實務上死亡人壽保險金依實質課稅原則核課遺產稅案例及其參考特徵\\r\\n    \\t\\t    \\t    \\t      \\r\\n    \\t\\t    \\t    \\t  \\r\\n    \\t\\t    \\t      \\r\\n    \\t\\t    \\t    \\t  \\r\\n    \\t\\t    \\t    \\t    \\r\\n    \\t\\t    \\t    \\t    \\t  人身保險商品Q&A問答集\\n\\n便民服務\\r\\n    \\t\\t      \\r\\n    \\t\\t    \\t  \\r\\n    \\t\\t    \\t    \\r\\n    \\t\\t    \\t    \\t  \\r\\n    \\t\\t    \\t    \\t    \\r\\n    \\t\\t    \\t    \\t    \\t  民意信箱\\r\\n    \\t\\t    \\t    \\t      \\r\\n    \\t\\t    \\t    \\t  \\r\\n    \\t\\t    \\t      \\r\\n    \\t\\t    \\t    \\t  \\r\\n    \\t\\t    \\t    \\t    \\r\\n    \\t\\t    \\t    \\t    \\t  就業資訊\\r\\n    \\t\\t    \\t    \\t      \\r\\n    \\t\\t    \\t    \\t  \\r\\n    \\t\\t    \\t      \\r\\n    \\t\\t    \\t    \\t  \\r\\n    \\t\\t    \\t    \\t    \\r\\n    \\t\\t    \\t    \\t    \\t  政風園地\\r\\n    \\t\\t    \\t    \\t      \\r\\n    \\t\\t    \\t    \\t  \\r\\n    \\t\\t    \\t      \\r\\n    \\t\\t    \\t    \\t  \\r\\n    \\t\\t    \\t    \\t    \\r\\n    \\t\\t    \\t    \\t    \\t  申辦案件流程\\r\\n    \\t\\t    \\t    \\t      \\r\\n    \\t\\t    \\t    \\t  \\r\\n    \\t\\t    \\t      \\r\\n    \\t\\t    \\t    \\t  \\r\\n    \\t\\t    \\t    \\t    \\r\\n    \\t\\t    \\t    \\t    \\t  服務聯繫\\r\\n    \\t\\t    \\t    \\t      \\r\\n    \\t\\t    \\t    \\t  \\r\\n    \\t\\t    \\t      \\r\\n    \\t\\t    \\t    \\t  \\r\\n    \\t\\t    \\t    \\t    \\r\\n    \\t\\t    \\t    \\t    \\t  表單下載\\r\\n    \\t\\t    \\t    \\t      \\r\\n    \\t\\t    \\t    \\t  \\r\\n    \\t\\t    \\t      \\r\\n    \\t\\t    \\t    \\t  \\r\\n    \\t\\t    \\t    \\t    \\r\\n    \\t\\t    \\t    \\t    \\t  雙語詞彙\\n\\n金管會保險局因應嚴重特殊傳染性肺炎(COVID-19)防疫措施專區\\r\\n    \\t\\t      \\r\\n    \\t\\t    \\t  \\r\\n    \\t\\t    \\t    \\r\\n    \\t\\t    \\t    \\t  \\r\\n    \\t\\t    \\t    \\t    \\r\\n    \\t\\t    \\t    \\t    \\t  專區說明\\r\\n    \\t\\t    \\t    \\t      \\r\\n    \\t\\t    \\t    \\t  \\r\\n    \\t\\t    \\t      \\r\\n    \\t\\t    \\t    \\t  \\r\\n    \\t\\t    \\t    \\t     \\r\\n    \\t\\t    \\t    \\t    \\t\\t  壽險公會因應嚴重特殊傳染性肺炎(COVID-19)防疫措施專區\\r\\n    \\t\\t    \\t    \\t    \\t  \\r\\n    \\t\\t    \\t    \\t  \\r\\n    \\t\\t    \\t      \\r\\n    \\t\\t    \\t    \\t  \\r\\n    \\t\\t    \\t    \\t     \\r\\n    \\t\\t    \\t    \\t    \\t\\t  產險公會因應嚴重特殊傳染性肺炎(COVID-19)防疫措施專區\\r\\n    \\t\\t    \\t    \\t    \\t  \\r\\n    \\t\\t    \\t    \\t  \\r\\n    \\t\\t    \\t      \\r\\n    \\t\\t    \\t    \\t  \\r\\n    \\t\\t    \\t    \\t    \\r\\n    \\t\\t    \\t    \\t    \\t  保險公司因應(COVID-19)疫情保戶服務相關便民措施、防疫相關保險商品網址及服務專線彙總表\\r\\n    \\t\\t    \\t    \\t      \\r\\n    \\t\\t    \\t    \\t  \\r\\n    \\t\\t    \\t      \\r\\n    \\t\\t    \\t    \\t  \\r\\n    \\t\\t    \\t    \\t    \\r\\n    \\t\\t    \\t    \\t    \\t  金管會新聞稿及重要函文\\r\\n    \\t\\t    \\t    \\t      \\r\\n    \\t\\t    \\t    \\t  \\r\\n    \\t\\t    \\t      \\r\\n    \\t\\t    \\t    \\t  \\r\\n    \\t\\t    \\t    \\t    \\r\\n    \\t\\t    \\t    \\t    \\t  壽險業辦理保單借款優惠利率紓困方案資訊專區\\r\\n    \\t\\t    \\t    \\t      \\r\\n    \\t\\t    \\t    \\t  \\r\\n    \\t\\t    \\t      \\r\\n    \\t\\t    \\t    \\t  \\r\\n    \\t\\t    \\t    \\t    \\r\\n    \\t\\t    \\t    \\t    \\t  防疫保險專區\\n\\n政府資訊公開\\r\\n    \\t\\t      \\r\\n    \\t\\t    \\t  \\r\\n    \\t\\t    \\t    \\r\\n    \\t\\t    \\t    \\t  \\r\\n    \\t\\t    \\t    \\t     \\r\\n    \\t\\t    \\t    \\t    \\t\\t  對外關係文書MOU\\r\\n    \\t\\t    \\t    \\t    \\t  \\r\\n    \\t\\t    \\t    \\t  \\r\\n    \\t\\t    \\t      \\r\\n    \\t\\t    \\t    \\t  \\r\\n    \\t\\t    \\t    \\t     \\r\\n    \\t\\t    \\t    \\t    \\t\\t  法規及行政規則\\r\\n    \\t\\t    \\t    \\t    \\t  \\r\\n    \\t\\t    \\t    \\t  \\r\\n    \\t\\t    \\t      \\r\\n    \\t\\t    \\t    \\t  \\r\\n    \\t\\t    \\t    \\t     \\r\\n    \\t\\t    \\t    \\t    \\t\\t  行政指導有關文書\\r\\n    \\t\\t    \\t    \\t    \\t  \\r\\n    \\t\\t    \\t    \\t  \\r\\n    \\t\\t    \\t      \\r\\n    \\t\\t    \\t    \\t  \\r\\n    \\t\\t    \\t    \\t     \\r\\n    \\t\\t    \\t    \\t    \\t\\t  施政計畫\\r\\n    \\t\\t    \\t    \\t    \\t  \\r\\n    \\t\\t    \\t    \\t  \\r\\n    \\t\\t    \\t      \\r\\n    \\t\\t    \\t    \\t  \\r\\n    \\t\\t    \\t    \\t     \\r\\n    \\t\\t    \\t    \\t    \\t\\t  研究報告\\r\\n    \\t\\t    \\t    \\t    \\t  \\r\\n    \\t\\t    \\t    \\t  \\r\\n    \\t\\t    \\t      \\r\\n    \\t\\t    \\t    \\t  \\r\\n    \\t\\t    \\t    \\t     \\r\\n    \\t\\t    \\t    \\t    \\t\\t  預決算書及會計報告\\r\\n    \\t\\t    \\t    \\t    \\t  \\r\\n    \\t\\t    \\t    \\t  \\r\\n    \\t\\t    \\t      \\r\\n    \\t\\t    \\t    \\t  \\r\\n    \\t\\t    \\t    \\t     \\r\\n    \\t\\t    \\t    \\t    \\t\\t  訴願決定\\r\\n    \\t\\t    \\t    \\t    \\t  \\r\\n    \\t\\t    \\t    \\t  \\r\\n    \\t\\t    \\t      \\r\\n    \\t\\t    \\t    \\t  \\r\\n    \\t\\t    \\t    \\t    \\r\\n    \\t\\t    \\t    \\t    \\t\\t  書面之公共工程及採購契約\\r\\n    \\t\\t    \\t    \\t    \\t  \\r\\n    \\t\\t    \\t    \\t  \\r\\n    \\t\\t    \\t      \\r\\n    \\t\\t    \\t    \\t  \\r\\n    \\t\\t    \\t    \\t     \\r\\n    \\t\\t    \\t    \\t    \\t\\t  支付或接受之補助\\r\\n    \\t\\t    \\t    \\t    \\t  \\r\\n    \\t\\t    \\t    \\t  \\r\\n    \\t\\t    \\t      \\r\\n    \\t\\t    \\t    \\t  \\r\\n    \\t\\t    \\t    \\t     \\r\\n    \\t\\t    \\t    \\t    \\t\\t  委員會議紀錄\\r\\n    \\t\\t    \\t    \\t    \\t  \\r\\n    \\t\\t    \\t    \\t  \\r\\n    \\t\\t    \\t      \\r\\n    \\t\\t    \\t    \\t  \\r\\n    \\t\\t    \\t    \\t     \\r\\n    \\t\\t    \\t    \\t    \\t\\t  遊說法專區\\r\\n    \\t\\t    \\t    \\t    \\t  \\r\\n    \\t\\t    \\t    \\t  \\r\\n    \\t\\t    \\t      \\r\\n    \\t\\t    \\t    \\t  \\r\\n    \\t\\t    \\t    \\t    \\r\\n    \\t\\t    \\t    \\t    \\t  政策宣導廣告專區\\r\\n    \\t\\t    \\t    \\t      \\r\\n    \\t\\t    \\t    \\t  \\r\\n    \\t\\t    \\t      \\r\\n    \\t\\t    \\t    \\t  \\r\\n    \\t\\t    \\t    \\t    \\r\\n    \\t\\t    \\t    \\t    \\t\\t  內部控制聲明書\\r\\n    \\t\\t    \\t    \\t    \\t  \\r\\n    \\t\\t    \\t    \\t  \\r\\n    \\t\\t    \\t      \\r\\n    \\t\\t    \\t    \\t  \\r\\n    \\t\\t    \\t    \\t     \\r\\n    \\t\\t    \\t    \\t    \\t\\t  性別主流化專區\\r\\n    \\t\\t    \\t    \\t    \\t  \\r\\n    \\t\\t    \\t    \\t  \\r\\n    \\t\\t    \\t      \\r\\n    \\t\\t    \\t    \\t  \\r\\n    \\t\\t    \\t    \\t    \\r\\n    \\t\\t    \\t    \\t    \\t  保險業務發展基金管理委員會\\r\\n    \\t\\t    \\t    \\t      \\r\\n    \\t\\t    \\t    \\t  \\r\\n    \\t\\t    \\t      \\r\\n    \\t\\t    \\t    \\t  \\r\\n    \\t\\t    \\t    \\t    \\r\\n    \\t\\t    \\t    \\t    \\t  施政個案計畫\\r\\n    \\t\\t    \\t    \\t      \\r\\n    \\t\\t    \\t    \\t  \\r\\n    \\t\\t    \\t      \\r\\n    \\t\\t    \\t    \\t  \\r\\n    \\t\\t    \\t    \\t    \\r\\n    \\t\\t    \\t    \\t    \\t  公共設施維護管理資訊\\n\\n業務主題專區\\r\\n    \\t\\t      \\r\\n    \\t\\t    \\t  \\r\\n    \\t\\t    \\t    \\r\\n    \\t\\t    \\t    \\t  \\r\\n    \\t\\t    \\t    \\t    \\r\\n    \\t\\t    \\t    \\t    \\t  保險輔助人\\r\\n    \\t\\t    \\t    \\t      \\r\\n    \\t\\t    \\t    \\t  \\r\\n    \\t\\t    \\t      \\r\\n    \\t\\t    \\t    \\t  \\r\\n    \\t\\t    \\t    \\t    \\r\\n    \\t\\t    \\t    \\t    \\t  強制汽車責任保險\\r\\n    \\t\\t    \\t    \\t      \\r\\n    \\t\\t    \\t    \\t  \\r\\n    \\t\\t    \\t      \\r\\n    \\t\\t    \\t    \\t  \\r\\n    \\t\\t    \\t    \\t    \\r\\n    \\t\\t    \\t    \\t    \\t  微型電動二輪車專區\\r\\n    \\t\\t    \\t    \\t      \\r\\n    \\t\\t    \\t    \\t  \\r\\n    \\t\\t    \\t      \\r\\n    \\t\\t    \\t    \\t  \\r\\n    \\t\\t    \\t    \\t    \\r\\n    \\t\\t    \\t    \\t    \\t  住宅火災及地震保險\\r\\n    \\t\\t    \\t    \\t      \\r\\n    \\t\\t    \\t    \\t  \\r\\n    \\t\\t    \\t      \\r\\n    \\t\\t    \\t    \\t  \\r\\n    \\t\\t    \\t    \\t    \\r\\n    \\t\\t    \\t    \\t    \\t  保險業風險資本額制度\\r\\n    \\t\\t    \\t    \\t      \\r\\n    \\t\\t    \\t    \\t  \\r\\n    \\t\\t    \\t      \\r\\n    \\t\\t    \\t    \\t  \\r\\n    \\t\\t    \\t    \\t    \\r\\n    \\t\\t    \\t    \\t    \\t  保險商品審查\\r\\n    \\t\\t    \\t    \\t      \\r\\n    \\t\\t    \\t    \\t  \\r\\n    \\t\\t    \\t      \\r\\n    \\t\\t    \\t    \\t  \\r\\n    \\t\\t    \\t    \\t    \\r\\n    \\t\\t    \\t    \\t    \\t  保險核心原則ICPs\\r\\n    \\t\\t    \\t    \\t      \\r\\n    \\t\\t    \\t    \\t  \\r\\n    \\t\\t    \\t      \\r\\n    \\t\\t    \\t    \\t  \\r\\n    \\t\\t    \\t    \\t    \\r\\n    \\t\\t    \\t    \\t    \\t  微型保險\\r\\n    \\t\\t    \\t    \\t      \\r\\n    \\t\\t    \\t    \\t  \\r\\n    \\t\\t    \\t      \\r\\n    \\t\\t    \\t    \\t  \\r\\n    \\t\\t    \\t    \\t    \\r\\n    \\t\\t    \\t    \\t    \\t  青年度假打工專區\\r\\n    \\t\\t    \\t    \\t      \\r\\n    \\t\\t    \\t    \\t  \\r\\n    \\t\\t    \\t      \\r\\n    \\t\\t    \\t    \\t  \\r\\n    \\t\\t    \\t    \\t    \\r\\n    \\t\\t    \\t    \\t    \\t  保險業防制洗錢及打擊資恐專區\\r\\n    \\t\\t    \\t    \\t      \\r\\n    \\t\\t    \\t    \\t  \\r\\n    \\t\\t    \\t      \\r\\n    \\t\\t    \\t    \\t  \\r\\n    \\t\\t    \\t    \\t    \\r\\n    \\t\\t    \\t    \\t    \\t  致敬山海 保險挺您\\r\\n    \\t\\t    \\t    \\t      \\r\\n    \\t\\t    \\t    \\t  \\r\\n    \\t\\t    \\t      \\r\\n    \\t\\t    \\t    \\t  \\r\\n    \\t\\t    \\t    \\t    \\r\\n    \\t\\t    \\t    \\t    \\t  OIU專區\\r\\n    \\t\\t    \\t    \\t      \\r\\n    \\t\\t    \\t    \\t  \\r\\n    \\t\\t    \\t      \\r\\n    \\t\\t    \\t    \\t  \\r\\n    \\t\\t    \\t    \\t    \\r\\n    \\t\\t    \\t    \\t    \\t  保險業承保身心障礙者統計資料及相關資料\\r\\n    \\t\\t    \\t    \\t      \\r\\n    \\t\\t    \\t    \\t  \\r\\n    \\t\\t    \\t      \\r\\n    \\t\\t    \\t    \\t  \\r\\n    \\t\\t    \\t    \\t    \\r\\n    \\t\\t    \\t    \\t    \\t  新南向政策專區\\r\\n    \\t\\t    \\t    \\t      \\r\\n    \\t\\t    \\t    \\t  \\r\\n    \\t\\t    \\t      \\r\\n    \\t\\t    \\t    \\t  \\r\\n    \\t\\t    \\t    \\t    \\r\\n    \\t\\t    \\t    \\t    \\t  IFRS17&新一代清償能力制度接軌專區\\r\\n    \\t\\t    \\t    \\t      \\r\\n    \\t\\t    \\t    \\t  \\r\\n    \\t\\t    \\t      \\r\\n    \\t\\t    \\t    \\t  \\r\\n    \\t\\t    \\t    \\t    \\r\\n    \\t\\t    \\t    \\t    \\t  清理專區\\r\\n    \\t\\t    \\t    \\t      \\r\\n    \\t\\t    \\t    \\t  \\r\\n    \\t\\t    \\t      \\r\\n    \\t\\t    \\t    \\t  \\r\\n    \\t\\t    \\t    \\t    \\r\\n    \\t\\t    \\t    \\t    \\t  保險犯罪防制\\n\\n相關單位連結\\r\\n    \\t\\t      \\r\\n    \\t\\t    \\t  \\r\\n    \\t\\t    \\t    \\r\\n    \\t\\t    \\t    \\t  \\r\\n    \\t\\t    \\t    \\t    \\r\\n    \\t\\t    \\t    \\t    \\t  保險業\\r\\n    \\t\\t    \\t    \\t      \\r\\n    \\t\\t    \\t    \\t  \\r\\n    \\t\\t    \\t      \\r\\n    \\t\\t    \\t    \\t  \\r\\n    \\t\\t    \\t    \\t    \\r\\n    \\t\\t    \\t    \\t    \\t  保險相關網站\\r\\n    \\t\\t    \\t    \\t      \\r\\n    \\t\\t    \\t    \\t  \\r\\n    \\t\\t    \\t      \\r\\n    \\t\\t    \\t    \\t  \\r\\n    \\t\\t    \\t    \\t    \\r\\n    \\t\\t    \\t    \\t    \\t  外國保險相關網站\\r\\n    \\t\\t    \\t    \\t      \\r\\n    \\t\\t    \\t    \\t  \\r\\n    \\t\\t    \\t      \\r\\n    \\t\\t    \\t    \\t  \\r\\n    \\t\\t    \\t    \\t     \\r\\n    \\t\\t    \\t    \\t    \\t\\t  其他政府網站及相關活動專區\\r\\n    \\t\\t    \\t    \\t    \\t  \\r\\n    \\t\\t    \\t    \\t  \\r\\n    \\t\\t    \\t      \\r\\n    \\t\\t    \\t    \\t  \\r\\n    \\t\\t    \\t    \\t     \\r\\n    \\t\\t    \\t    \\t    \\t\\t  政府相關連結\\n\\nEnglish\\n\\n機關介紹\\r\\n    \\t\\t      \\r\\n    \\t\\t    \\t  \\r\\n    \\t\\t    \\t    \\r\\n    \\t\\t    \\t    \\t  \\r\\n    \\t\\t    \\t    \\t    \\r\\n    \\t\\t    \\t    \\t    \\t  首長簡介\\r\\n    \\t\\t    \\t    \\t      \\r\\n    \\t\\t    \\t    \\t  \\r\\n    \\t\\t    \\t      \\r\\n    \\t\\t    \\t    \\t  \\r\\n    \\t\\t    \\t    \\t    \\r\\n    \\t\\t    \\t    \\t    \\t  組織架構\\r\\n    \\t\\t    \\t    \\t      \\r\\n    \\t\\t    \\t    \\t  \\r\\n    \\t\\t    \\t      \\r\\n    \\t\\t    \\t    \\t  \\r\\n    \\t\\t    \\t    \\t    \\r\\n    \\t\\t    \\t    \\t    \\t  首長言論集\\r\\n    \\t\\t    \\t    \\t      \\r\\n    \\t\\t    \\t    \\t  \\r\\n    \\t\\t    \\t      \\r\\n    \\t\\t    \\t    \\t  \\r\\n    \\t\\t    \\t    \\t    \\r\\n    \\t\\t    \\t    \\t    \\t  沿革\\r\\n    \\t\\t    \\t    \\t      \\r\\n    \\t\\t    \\t    \\t  \\r\\n    \\t\\t    \\t      \\r\\n    \\t\\t    \\t    \\t  \\r\\n    \\t\\t    \\t    \\t    \\r\\n    \\t\\t    \\t    \\t    \\t  機關聯絡資訊\\r\\n    \\t\\t    \\t    \\t      \\r\\n    \\t\\t    \\t    \\t  \\r\\n    \\t\\t    \\t      \\r\\n    \\t\\t    \\t    \\t  \\r\\n    \\t\\t    \\t    \\t    \\r\\n    \\t\\t    \\t    \\t    \\t\\t  影音平台\\n\\n公告資訊\\r\\n    \\t\\t      \\r\\n    \\t\\t    \\t  \\r\\n    \\t\\t    \\t    \\r\\n    \\t\\t    \\t    \\t  \\r\\n    \\t\\t    \\t    \\t    \\r\\n    \\t\\t    \\t    \\t    \\t  新聞稿與即時新聞澄清\\r\\n    \\t\\t    \\t    \\t      \\r\\n    \\t\\t    \\t    \\t  \\r\\n    \\t\\t    \\t      \\r\\n    \\t\\t    \\t    \\t  \\r\\n    \\t\\t    \\t    \\t    \\r\\n    \\t\\t    \\t    \\t    \\t  重大政策\\r\\n    \\t\\t    \\t    \\t      \\r\\n    \\t\\t    \\t    \\t  \\r\\n    \\t\\t    \\t      \\r\\n    \\t\\t    \\t    \\t  \\r\\n    \\t\\t    \\t    \\t    \\r\\n    \\t\\t    \\t    \\t    \\t  榮譽專區\\r\\n    \\t\\t    \\t    \\t      \\r\\n    \\t\\t    \\t    \\t  \\r\\n    \\t\\t    \\t      \\r\\n    \\t\\t    \\t    \\t  \\r\\n    \\t\\t    \\t    \\t    \\r\\n    \\t\\t    \\t    \\t    \\t  招標資訊\\r\\n    \\t\\t    \\t    \\t      \\r\\n    \\t\\t    \\t    \\t  \\r\\n    \\t\\t    \\t      \\r\\n    \\t\\t    \\t    \\t  \\r\\n    \\t\\t    \\t    \\t    \\r\\n    \\t\\t    \\t    \\t    \\t  國際活動\\r\\n    \\t\\t    \\t    \\t      \\r\\n    \\t\\t    \\t    \\t  \\r\\n    \\t\\t    \\t      \\r\\n    \\t\\t    \\t    \\t  \\r\\n    \\t\\t    \\t    \\t    \\r\\n    \\t\\t    \\t    \\t    \\t  重要公告\\r\\n    \\t\\t    \\t    \\t      \\r\\n    \\t\\t    \\t    \\t  \\r\\n    \\t\\t    \\t      \\r\\n    \\t\\t    \\t    \\t  \\r\\n    \\t\\t    \\t    \\t    \\r\\n    \\t\\t    \\t    \\t    \\t  個人資料保護專區\\r\\n    \\t\\t    \\t    \\t      \\r\\n    \\t\\t    \\t    \\t  \\r\\n    \\t\\t    \\t      \\r\\n    \\t\\t    \\t    \\t  \\r\\n    \\t\\t    \\t    \\t    \\r\\n    \\t\\t    \\t    \\t    \\t  徵才資訊\\r\\n    \\t\\t    \\t    \\t      \\r\\n    \\t\\t    \\t    \\t  \\r\\n    \\t\\t    \\t      \\r\\n    \\t\\t    \\t    \\t  \\r\\n    \\t\\t    \\t    \\t    \\r\\n    \\t\\t    \\t    \\t    \\t  裁罰案件\\n\\n法規資訊\\r\\n    \\t\\t      \\r\\n    \\t\\t    \\t  \\r\\n    \\t\\t    \\t    \\r\\n    \\t\\t    \\t    \\t  \\r\\n    \\t\\t    \\t    \\t    \\r\\n    \\t\\t    \\t    \\t    \\t  最新法令函釋\\r\\n    \\t\\t    \\t    \\t      \\r\\n    \\t\\t    \\t    \\t  \\r\\n    \\t\\t    \\t      \\r\\n    \\t\\t    \\t    \\t  \\r\\n    \\t\\t    \\t    \\t    \\r\\n    \\t\\t    \\t    \\t    \\t  法規草案預告\\r\\n    \\t\\t    \\t    \\t      \\r\\n    \\t\\t    \\t    \\t  \\r\\n    \\t\\t    \\t      \\r\\n    \\t\\t    \\t    \\t  \\r\\n    \\t\\t    \\t    \\t    \\r\\n    \\t\\t    \\t    \\t    \\t  保險法及相關法規\\r\\n    \\t\\t    \\t    \\t      \\r\\n    \\t\\t    \\t    \\t  \\r\\n    \\t\\t    \\t      \\r\\n    \\t\\t    \\t    \\t  \\r\\n    \\t\\t    \\t    \\t    \\r\\n    \\t\\t    \\t    \\t    \\t  強制汽車責任保險法及相關法規\\r\\n    \\t\\t    \\t    \\t      \\r\\n    \\t\\t    \\t    \\t  \\r\\n    \\t\\t    \\t      \\r\\n    \\t\\t    \\t    \\t  \\r\\n    \\t\\t    \\t    \\t    \\r\\n    \\t\\t    \\t    \\t    \\t  行政規則\\r\\n    \\t\\t    \\t    \\t      \\r\\n    \\t\\t    \\t    \\t  \\r\\n    \\t\\t    \\t      \\r\\n    \\t\\t    \\t    \\t  \\r\\n    \\t\\t    \\t    \\t    \\r\\n    \\t\\t    \\t    \\t    \\t\\t  保險法令判解查詢系統\\n\\n金融資訊\\r\\n    \\t\\t      \\r\\n    \\t\\t    \\t  \\r\\n    \\t\\t    \\t    \\r\\n    \\t\\t    \\t    \\t  \\r\\n    \\t\\t    \\t    \\t    \\r\\n    \\t\\t    \\t    \\t    \\t  保險業務資訊揭露維護\\r\\n    \\t\\t    \\t    \\t      \\r\\n    \\t\\t    \\t    \\t  \\r\\n    \\t\\t    \\t      \\r\\n    \\t\\t    \\t    \\t  \\r\\n    \\t\\t    \\t    \\t    \\r\\n    \\t\\t    \\t    \\t    \\t  統計資料\\r\\n    \\t\\t    \\t    \\t      \\r\\n    \\t\\t    \\t    \\t  \\r\\n    \\t\\t    \\t      \\r\\n    \\t\\t    \\t    \\t  \\r\\n    \\t\\t    \\t    \\t    \\r\\n    \\t\\t    \\t    \\t    \\t  資訊圖像化\\r\\n    \\t\\t    \\t    \\t      \\r\\n    \\t\\t    \\t    \\t  \\r\\n    \\t\\t    \\t      \\r\\n    \\t\\t    \\t    \\t  \\r\\n    \\t\\t    \\t    \\t    \\r\\n    \\t\\t    \\t    \\t    \\t  出版品\\n\\n消費者園地\\r\\n    \\t\\t      \\r\\n    \\t\\t    \\t  \\r\\n    \\t\\t    \\t    \\r\\n    \\t\\t    \\t    \\t  \\r\\n    \\t\\t    \\t    \\t    \\r\\n    \\t\\t    \\t    \\t    \\t\\t  金融智慧網\\r\\n    \\t\\t    \\t    \\t    \\t  \\r\\n    \\t\\t    \\t    \\t  \\r\\n    \\t\\t    \\t      \\r\\n    \\t\\t    \\t    \\t  \\r\\n    \\t\\t    \\t    \\t    \\r\\n    \\t\\t    \\t    \\t    \\t  保險申訴及諮詢專區\\r\\n    \\t\\t    \\t    \\t      \\r\\n    \\t\\t    \\t    \\t  \\r\\n    \\t\\t    \\t      \\r\\n    \\t\\t    \\t    \\t  \\r\\n    \\t\\t    \\t    \\t    \\r\\n    \\t\\t    \\t    \\t    \\t  定型化契約範本\\r\\n    \\t\\t    \\t    \\t      \\r\\n    \\t\\t    \\t    \\t  \\r\\n    \\t\\t    \\t      \\r\\n    \\t\\t    \\t    \\t  \\r\\n    \\t\\t    \\t    \\t    \\r\\n    \\t\\t    \\t    \\t    \\t  消費者保護\\r\\n    \\t\\t    \\t    \\t      \\r\\n    \\t\\t    \\t    \\t  \\r\\n    \\t\\t    \\t      \\r\\n    \\t\\t    \\t    \\t  \\r\\n    \\t\\t    \\t    \\t    \\r\\n    \\t\\t    \\t    \\t    \\t  實務上死亡人壽保險金依實質課稅原則核課遺產稅案例及其參考特徵\\r\\n    \\t\\t    \\t    \\t      \\r\\n    \\t\\t    \\t    \\t  \\r\\n    \\t\\t    \\t      \\r\\n    \\t\\t    \\t    \\t  \\r\\n    \\t\\t    \\t    \\t    \\r\\n    \\t\\t    \\t    \\t    \\t  人身保險商品Q&A問答集\\n\\n便民服務\\r\\n    \\t\\t      \\r\\n    \\t\\t    \\t  \\r\\n    \\t\\t    \\t    \\r\\n    \\t\\t    \\t    \\t  \\r\\n    \\t\\t    \\t    \\t    \\r\\n    \\t\\t    \\t    \\t    \\t  民意信箱\\r\\n    \\t\\t    \\t    \\t      \\r\\n    \\t\\t    \\t    \\t  \\r\\n    \\t\\t    \\t      \\r\\n    \\t\\t    \\t    \\t  \\r\\n    \\t\\t    \\t    \\t    \\r\\n    \\t\\t    \\t    \\t    \\t  就業資訊\\r\\n    \\t\\t    \\t    \\t      \\r\\n    \\t\\t    \\t    \\t  \\r\\n    \\t\\t    \\t      \\r\\n    \\t\\t    \\t    \\t  \\r\\n    \\t\\t    \\t    \\t    \\r\\n    \\t\\t    \\t    \\t    \\t  政風園地\\r\\n    \\t\\t    \\t    \\t      \\r\\n    \\t\\t    \\t    \\t  \\r\\n    \\t\\t    \\t      \\r\\n    \\t\\t    \\t    \\t  \\r\\n    \\t\\t    \\t    \\t    \\r\\n    \\t\\t    \\t    \\t    \\t  申辦案件流程\\r\\n    \\t\\t    \\t    \\t      \\r\\n    \\t\\t    \\t    \\t  \\r\\n    \\t\\t    \\t      \\r\\n    \\t\\t    \\t    \\t  \\r\\n    \\t\\t    \\t    \\t    \\r\\n    \\t\\t    \\t    \\t    \\t  服務聯繫\\r\\n    \\t\\t    \\t    \\t      \\r\\n    \\t\\t    \\t    \\t  \\r\\n    \\t\\t    \\t      \\r\\n    \\t\\t    \\t    \\t  \\r\\n    \\t\\t    \\t    \\t    \\r\\n    \\t\\t    \\t    \\t    \\t  表單下載\\r\\n    \\t\\t    \\t    \\t      \\r\\n    \\t\\t    \\t    \\t  \\r\\n    \\t\\t    \\t      \\r\\n    \\t\\t    \\t    \\t  \\r\\n    \\t\\t    \\t    \\t    \\r\\n    \\t\\t    \\t    \\t    \\t  雙語詞彙\\n\\n金管會保險局因應嚴重特殊傳染性肺炎(COVID-19)防疫措施專區\\r\\n    \\t\\t      \\r\\n    \\t\\t    \\t  \\r\\n    \\t\\t    \\t    \\r\\n    \\t\\t    \\t    \\t  \\r\\n    \\t\\t    \\t    \\t    \\r\\n    \\t\\t    \\t    \\t    \\t  專區說明\\r\\n    \\t\\t    \\t    \\t      \\r\\n    \\t\\t    \\t    \\t  \\r\\n    \\t\\t    \\t      \\r\\n    \\t\\t    \\t    \\t  \\r\\n    \\t\\t    \\t    \\t    \\r\\n    \\t\\t    \\t    \\t    \\t\\t  壽險公會因應嚴重特殊傳染性肺炎(COVID-19)防疫措施專區\\r\\n    \\t\\t    \\t    \\t    \\t  \\r\\n    \\t\\t    \\t    \\t  \\r\\n    \\t\\t    \\t      \\r\\n    \\t\\t    \\t    \\t  \\r\\n    \\t\\t    \\t    \\t    \\r\\n    \\t\\t    \\t    \\t    \\t\\t  產險公會因應嚴重特殊傳染性肺炎(COVID-19)防疫措施專區\\r\\n    \\t\\t    \\t    \\t    \\t  \\r\\n    \\t\\t    \\t    \\t  \\r\\n    \\t\\t    \\t      \\r\\n    \\t\\t    \\t    \\t  \\r\\n    \\t\\t    \\t    \\t    \\r\\n    \\t\\t    \\t    \\t    \\t  保險公司因應(COVID-19)疫情保戶服務相關便民措施、防疫相關保險商品網址及服務專線彙總表\\r\\n    \\t\\t    \\t    \\t      \\r\\n    \\t\\t    \\t    \\t  \\r\\n    \\t\\t    \\t      \\r\\n    \\t\\t    \\t    \\t  \\r\\n    \\t\\t    \\t    \\t    \\r\\n    \\t\\t    \\t    \\t    \\t  金管會新聞稿及重要函文\\r\\n    \\t\\t    \\t    \\t      \\r\\n    \\t\\t    \\t    \\t  \\r\\n    \\t\\t    \\t      \\r\\n    \\t\\t    \\t    \\t  \\r\\n    \\t\\t    \\t    \\t    \\r\\n    \\t\\t    \\t    \\t    \\t  壽險業辦理保單借款優惠利率紓困方案資訊專區\\r\\n    \\t\\t    \\t    \\t      \\r\\n    \\t\\t    \\t    \\t  \\r\\n    \\t\\t    \\t      \\r\\n    \\t\\t    \\t    \\t  \\r\\n    \\t\\t    \\t    \\t    \\r\\n    \\t\\t    \\t    \\t    \\t  防疫保險專區\\n\\n政府資訊公開\\r\\n    \\t\\t      \\r\\n    \\t\\t    \\t  \\r\\n    \\t\\t    \\t    \\r\\n    \\t\\t    \\t    \\t  \\r\\n    \\t\\t    \\t    \\t    \\r\\n    \\t\\t    \\t    \\t    \\t\\t  對外關係文書MOU\\r\\n    \\t\\t    \\t    \\t    \\t  \\r\\n    \\t\\t    \\t    \\t  \\r\\n    \\t\\t    \\t      \\r\\n    \\t\\t    \\t    \\t  \\r\\n    \\t\\t    \\t    \\t    \\r\\n    \\t\\t    \\t    \\t    \\t\\t  法規及行政規則\\r\\n    \\t\\t    \\t    \\t    \\t  \\r\\n    \\t\\t    \\t    \\t  \\r\\n    \\t\\t    \\t      \\r\\n    \\t\\t    \\t    \\t  \\r\\n    \\t\\t    \\t    \\t    \\r\\n    \\t\\t    \\t    \\t    \\t\\t  行政指導有關文書\\r\\n    \\t\\t    \\t    \\t    \\t  \\r\\n    \\t\\t    \\t    \\t  \\r\\n    \\t\\t    \\t      \\r\\n    \\t\\t    \\t    \\t  \\r\\n    \\t\\t    \\t    \\t    \\r\\n    \\t\\t    \\t    \\t    \\t\\t  施政計畫\\r\\n    \\t\\t    \\t    \\t    \\t  \\r\\n    \\t\\t    \\t    \\t  \\r\\n    \\t\\t    \\t      \\r\\n    \\t\\t    \\t    \\t  \\r\\n    \\t\\t    \\t    \\t    \\r\\n    \\t\\t    \\t    \\t    \\t\\t  研究報告\\r\\n    \\t\\t    \\t    \\t    \\t  \\r\\n    \\t\\t    \\t    \\t  \\r\\n    \\t\\t    \\t      \\r\\n    \\t\\t    \\t    \\t  \\r\\n    \\t\\t    \\t    \\t    \\r\\n    \\t\\t    \\t    \\t    \\t\\t  預決算書及會計報告\\r\\n    \\t\\t    \\t    \\t    \\t  \\r\\n    \\t\\t    \\t    \\t  \\r\\n    \\t\\t    \\t      \\r\\n    \\t\\t    \\t    \\t  \\r\\n    \\t\\t    \\t    \\t    \\r\\n    \\t\\t    \\t    \\t    \\t\\t  訴願決定\\r\\n    \\t\\t    \\t    \\t    \\t  \\r\\n    \\t\\t    \\t    \\t  \\r\\n    \\t\\t    \\t      \\r\\n    \\t\\t    \\t    \\t  \\r\\n    \\t\\t    \\t    \\t    \\r\\n    \\t\\t    \\t    \\t    \\t\\t  書面之公共工程及採購契約\\r\\n    \\t\\t    \\t    \\t    \\t  \\r\\n    \\t\\t    \\t    \\t  \\r\\n    \\t\\t    \\t      \\r\\n    \\t\\t    \\t    \\t  \\r\\n    \\t\\t    \\t    \\t    \\r\\n    \\t\\t    \\t    \\t    \\t\\t  支付或接受之補助\\r\\n    \\t\\t    \\t    \\t    \\t  \\r\\n    \\t\\t    \\t    \\t  \\r\\n    \\t\\t    \\t      \\r\\n    \\t\\t    \\t    \\t  \\r\\n    \\t\\t    \\t    \\t    \\r\\n    \\t\\t    \\t    \\t    \\t\\t  委員會議紀錄\\r\\n    \\t\\t    \\t    \\t    \\t  \\r\\n    \\t\\t    \\t    \\t  \\r\\n    \\t\\t    \\t      \\r\\n    \\t\\t    \\t    \\t  \\r\\n    \\t\\t    \\t    \\t    \\r\\n    \\t\\t    \\t    \\t    \\t\\t  遊說法專區\\r\\n    \\t\\t    \\t    \\t    \\t  \\r\\n    \\t\\t    \\t    \\t  \\r\\n    \\t\\t    \\t      \\r\\n    \\t\\t    \\t    \\t  \\r\\n    \\t\\t    \\t    \\t    \\r\\n    \\t\\t    \\t    \\t    \\t  政策宣導廣告專區\\r\\n    \\t\\t    \\t    \\t      \\r\\n    \\t\\t    \\t    \\t  \\r\\n    \\t\\t    \\t      \\r\\n    \\t\\t    \\t    \\t  \\r\\n    \\t\\t    \\t    \\t    \\r\\n    \\t\\t    \\t    \\t    \\t\\t  內部控制聲明書\\r\\n    \\t\\t    \\t    \\t    \\t  \\r\\n    \\t\\t    \\t    \\t  \\r\\n    \\t\\t    \\t      \\r\\n    \\t\\t    \\t    \\t  \\r\\n    \\t\\t    \\t    \\t    \\r\\n    \\t\\t    \\t    \\t    \\t\\t  性別主流化專區\\r\\n    \\t\\t    \\t    \\t    \\t  \\r\\n    \\t\\t    \\t    \\t  \\r\\n    \\t\\t    \\t      \\r\\n    \\t\\t    \\t    \\t  \\r\\n    \\t\\t    \\t    \\t    \\r\\n    \\t\\t    \\t    \\t    \\t  保險業務發展基金管理委員會\\r\\n    \\t\\t    \\t    \\t      \\r\\n    \\t\\t    \\t    \\t  \\r\\n    \\t\\t    \\t      \\r\\n    \\t\\t    \\t    \\t  \\r\\n    \\t\\t    \\t    \\t    \\r\\n    \\t\\t    \\t    \\t    \\t  施政個案計畫\\r\\n    \\t\\t    \\t    \\t      \\r\\n    \\t\\t    \\t    \\t  \\r\\n    \\t\\t    \\t      \\r\\n    \\t\\t    \\t    \\t  \\r\\n    \\t\\t    \\t    \\t    \\r\\n    \\t\\t    \\t    \\t    \\t  公共設施維護管理資訊\\n\\n業務主題專區\\r\\n    \\t\\t      \\r\\n    \\t\\t    \\t  \\r\\n    \\t\\t    \\t    \\r\\n    \\t\\t    \\t    \\t  \\r\\n    \\t\\t    \\t    \\t    \\r\\n    \\t\\t    \\t    \\t    \\t  保險輔助人\\r\\n    \\t\\t    \\t    \\t      \\r\\n    \\t\\t    \\t    \\t  \\r\\n    \\t\\t    \\t      \\r\\n    \\t\\t    \\t    \\t  \\r\\n    \\t\\t    \\t    \\t    \\r\\n    \\t\\t    \\t    \\t    \\t  強制汽車責任保險\\r\\n    \\t\\t    \\t    \\t      \\r\\n    \\t\\t    \\t    \\t  \\r\\n    \\t\\t    \\t      \\r\\n    \\t\\t    \\t    \\t  \\r\\n    \\t\\t    \\t    \\t    \\r\\n    \\t\\t    \\t    \\t    \\t  微型電動二輪車專區\\r\\n    \\t\\t    \\t    \\t      \\r\\n    \\t\\t    \\t    \\t  \\r\\n    \\t\\t    \\t      \\r\\n    \\t\\t    \\t    \\t  \\r\\n    \\t\\t    \\t    \\t    \\r\\n    \\t\\t    \\t    \\t    \\t  住宅火災及地震保險\\r\\n    \\t\\t    \\t    \\t      \\r\\n    \\t\\t    \\t    \\t  \\r\\n    \\t\\t    \\t      \\r\\n    \\t\\t    \\t    \\t  \\r\\n    \\t\\t    \\t    \\t    \\r\\n    \\t\\t    \\t    \\t    \\t  保險業風險資本額制度\\r\\n    \\t\\t    \\t    \\t      \\r\\n    \\t\\t    \\t    \\t  \\r\\n    \\t\\t    \\t      \\r\\n    \\t\\t    \\t    \\t  \\r\\n    \\t\\t    \\t    \\t    \\r\\n    \\t\\t    \\t    \\t    \\t  保險商品審查\\r\\n    \\t\\t    \\t    \\t      \\r\\n    \\t\\t    \\t    \\t  \\r\\n    \\t\\t    \\t      \\r\\n    \\t\\t    \\t    \\t  \\r\\n    \\t\\t    \\t    \\t    \\r\\n    \\t\\t    \\t    \\t    \\t  保險核心原則ICPs\\r\\n    \\t\\t    \\t    \\t      \\r\\n    \\t\\t    \\t    \\t  \\r\\n    \\t\\t    \\t      \\r\\n    \\t\\t    \\t    \\t  \\r\\n    \\t\\t    \\t    \\t    \\r\\n    \\t\\t    \\t    \\t    \\t  微型保險\\r\\n    \\t\\t    \\t    \\t      \\r\\n    \\t\\t    \\t    \\t  \\r\\n    \\t\\t    \\t      \\r\\n    \\t\\t    \\t    \\t  \\r\\n    \\t\\t    \\t    \\t    \\r\\n    \\t\\t    \\t    \\t    \\t  青年度假打工專區\\r\\n    \\t\\t    \\t    \\t      \\r\\n    \\t\\t    \\t    \\t  \\r\\n    \\t\\t    \\t      \\r\\n    \\t\\t    \\t    \\t  \\r\\n    \\t\\t    \\t    \\t    \\r\\n    \\t\\t    \\t    \\t    \\t  保險業防制洗錢及打擊資恐專區\\r\\n    \\t\\t    \\t    \\t      \\r\\n    \\t\\t    \\t    \\t  \\r\\n    \\t\\t    \\t      \\r\\n    \\t\\t    \\t    \\t  \\r\\n    \\t\\t    \\t    \\t    \\r\\n    \\t\\t    \\t    \\t    \\t  致敬山海 保險挺您\\r\\n    \\t\\t    \\t    \\t      \\r\\n    \\t\\t    \\t    \\t  \\r\\n    \\t\\t    \\t      \\r\\n    \\t\\t    \\t    \\t  \\r\\n    \\t\\t    \\t    \\t    \\r\\n    \\t\\t    \\t    \\t    \\t  OIU專區\\r\\n    \\t\\t    \\t    \\t      \\r\\n    \\t\\t    \\t    \\t  \\r\\n    \\t\\t    \\t      \\r\\n    \\t\\t    \\t    \\t  \\r\\n    \\t\\t    \\t    \\t    \\r\\n    \\t\\t    \\t    \\t    \\t  保險業承保身心障礙者統計資料及相關資料\\r\\n    \\t\\t    \\t    \\t      \\r\\n    \\t\\t    \\t    \\t  \\r\\n    \\t\\t    \\t      \\r\\n    \\t\\t    \\t    \\t  \\r\\n    \\t\\t    \\t    \\t    \\r\\n    \\t\\t    \\t    \\t    \\t  新南向政策專區\\r\\n    \\t\\t    \\t    \\t      \\r\\n    \\t\\t    \\t    \\t  \\r\\n    \\t\\t    \\t      \\r\\n    \\t\\t    \\t    \\t  \\r\\n    \\t\\t    \\t    \\t    \\r\\n    \\t\\t    \\t    \\t    \\t  IFRS17&新一代清償能力制度接軌專區\\r\\n    \\t\\t    \\t    \\t      \\r\\n    \\t\\t    \\t    \\t  \\r\\n    \\t\\t    \\t      \\r\\n    \\t\\t    \\t    \\t  \\r\\n    \\t\\t    \\t    \\t    \\r\\n    \\t\\t    \\t    \\t    \\t  清理專區\\r\\n    \\t\\t    \\t    \\t      \\r\\n    \\t\\t    \\t    \\t  \\r\\n    \\t\\t    \\t      \\r\\n    \\t\\t    \\t    \\t  \\r\\n    \\t\\t    \\t    \\t    \\r\\n    \\t\\t    \\t    \\t    \\t  保險犯罪防制\\n\\n相關單位連結\\r\\n    \\t\\t      \\r\\n    \\t\\t    \\t  \\r\\n    \\t\\t    \\t    \\r\\n    \\t\\t    \\t    \\t  \\r\\n    \\t\\t    \\t    \\t    \\r\\n    \\t\\t    \\t    \\t    \\t  保險業\\r\\n    \\t\\t    \\t    \\t      \\r\\n    \\t\\t    \\t    \\t  \\r\\n    \\t\\t    \\t      \\r\\n    \\t\\t    \\t    \\t  \\r\\n    \\t\\t    \\t    \\t    \\r\\n    \\t\\t    \\t    \\t    \\t  保險相關網站\\r\\n    \\t\\t    \\t    \\t      \\r\\n    \\t\\t    \\t    \\t  \\r\\n    \\t\\t    \\t      \\r\\n    \\t\\t    \\t    \\t  \\r\\n    \\t\\t    \\t    \\t    \\r\\n    \\t\\t    \\t    \\t    \\t  外國保險相關網站\\r\\n    \\t\\t    \\t    \\t      \\r\\n    \\t\\t    \\t    \\t  \\r\\n    \\t\\t    \\t      \\r\\n    \\t\\t    \\t    \\t  \\r\\n    \\t\\t    \\t    \\t    \\r\\n    \\t\\t    \\t    \\t    \\t\\t  其他政府網站及相關活動專區\\r\\n    \\t\\t    \\t    \\t    \\t  \\r\\n    \\t\\t    \\t    \\t  \\r\\n    \\t\\t    \\t      \\r\\n    \\t\\t    \\t    \\t  \\r\\n    \\t\\t    \\t    \\t    \\r\\n    \\t\\t    \\t    \\t    \\t\\t  政府相關連結\\n\\n:::\\n\\n公告資訊\\n\\n新聞稿與即時新聞澄清\\r\\n\\t        \\t\\t    \\r\\n\\t        \\t\\t    \\t\\r\\n\\t        \\t\\t    \\t  \\r\\n\\t    \\t\\t    \\t    \\t    \\r\\n\\t    \\t\\t    \\t    \\t      \\r\\n\\t\\t    \\t\\t    \\t    \\t    \\t新聞稿\\r\\n\\t\\t    \\t\\t    \\t    \\t    \\r\\n\\t    \\t\\t    \\t    \\t        \\r\\n\\t    \\t\\t    \\t    \\t    \\r\\n\\t        \\t\\t    \\t    \\r\\n\\t    \\t\\t    \\t    \\t    \\r\\n\\t    \\t\\t    \\t    \\t      \\r\\n\\t\\t    \\t\\t    \\t    \\t    \\t\\t即時新聞澄清\\n\\n重大政策\\n\\n榮譽專區\\n\\n招標資訊\\n\\n國際活動\\n\\n重要公告\\n\\n個人資料保護專區\\n\\n徵才資訊\\n\\n裁罰案件\\r\\n\\t        \\t\\t    \\r\\n\\t        \\t\\t    \\t\\r\\n\\t        \\t\\t    \\t  \\r\\n\\t    \\t\\t    \\t    \\t    \\r\\n\\t    \\t\\t    \\t    \\t      \\r\\n\\t\\t    \\t\\t    \\t    \\t    \\t\\t重大裁罰(金管會網站超連結)\\r\\n\\t\\t    \\t\\t    \\t    \\t    \\t\\r\\n\\t    \\t\\t    \\t    \\t        \\r\\n\\t    \\t\\t    \\t    \\t    \\r\\n\\t        \\t\\t    \\t    \\r\\n\\t    \\t\\t    \\t    \\t    \\r\\n\\t    \\t\\t    \\t    \\t      \\r\\n\\t\\t    \\t\\t    \\t    \\t    \\t非重大裁罰\\n\\n:::\\n\\n回首頁\\n\\n裁罰案件\\n\\n裁罰案件\\n\\nfb\\n\\ng+\\n\\nline\\n\\nTwitter\\n\\n友善列印\\n\\n回上頁\\n\\n若您的瀏覽器無法支援JavaScript語法，請按鍵盤上的\"ctrl + P\"列印；若您的瀏覽器無法支援JavaScript語法，請按鍵盤上的\"alt + ←\"回上頁\\n\\n中央內容區塊\\n\\n新光人壽保險股份有限公司辦理高齡者投保權益業務，核有違反保險法相關規定，依保險法核處罰鍰計新臺幣120萬元整。\\n\\n2023-09-13\\n\\n一、裁罰時間：112年9月13日\\n\\n二、受處分人：新光人壽保險股份有限公司\\n\\n三、營利事業統一編號：略\\n\\n四、地址：略\\n\\n五、代表人或管理人姓名：魏○○\\n\\n六、地址：略\\n\\n七、主旨：有關本會對該公司辦理高齡者及身心障礙者投保權益作業專案檢查報告(編號：111I041)所列缺失事項，核有違反保險法相關規定，依保險法第171條之1第5項規定核處罰鍰計新臺幣(以下同)120萬元整。\\n\\n八、事實：\\n\\n(一)該公司辦理高齡者投資型保險商品適合度評估作業，業務員於招攬高齡不識字之保戶，未確實填寫高齡投保評估量表：於評估量表之項目A學歷勾選之欄位為「不識字」，而於項目F認知評估，就保戶是否有識字能力顯著低下之問項，卻勾選「無上述情形」之欄位，顯與事實不相符；且該評估結果業務員認保戶「具有辨識不利投保權益之能力且理解投保保險商品內容之適合度，其認知能力適足」，然經調閱檢視保戶銷售後承保前電訪作業之歷次錄音逐字稿，保戶於前兩次電訪未能正確回答關懷提問之問項如「第一期投資標的?」及「風險承受是屬於保守型、穩健型還是積極型?」，顯示客戶之投保權益認知不足，與高齡評估量表之評估結果未一致。\\n\\n(二)該公司雖已訂定保險業招攬及核保相關作業程序，惟高齡關懷電訪作業流於形式，且未落實執行整體保戶商品適合度作業之評估，無從確保該商品符合保戶之投保需求及適合度。\\n\\n九、理由及法令依據：\\n\\n(一)依據保險法第148條之3第2項授權訂定之「保險業招攬及核保理賠辦法」第6條第1項第6款第4目規定略以，保險業訂定其內部之業務招攬處理制度及程序，至少應包括並明定保險商品適合度政策，其內容至少應包括要保人如係投保投資型保險商品，應考量要保人之投資屬性、風險承受能力、繳交保險費之資金來源，並確定要保人已確實瞭解投資型保險之投資損益係由其自行承擔，且不得提供逾越要保人財力狀況或不合適之商品，另依同條第1項第12款第1目之2規定略以，保險業訂定其內部之招攬處理制度及程序，應包括就年齡在六十五歲以上客戶購買有保單價值準備金之保險商品者，應另指派非銷售通路之人員，於銷售保險契約後且同意承保前，再進行電話訪問、視訊或遠距訪問，並應依保戶所購買保險商品不利於其投保權益之情形進行關懷提問，確認客戶瞭解保險商品特性對其之潛在影響及各種不利因素之作業程序。\\n\\n(二)另依「保險業招攬及核保理賠辦法」辦法第7條第1項第3款第4目規定略以，保險業訂定其內部之核保處理制度及程序，至少應包括並明定瞭解並評估要保人與被保險人保險需求及適合度之政策，要保人如係投保投資型保險商品，應遵循下列事項：已評估要保人之投資屬性、風險承受能力、繳交保險費之資金來源，並已評估要保人確實瞭解投資型保險之投資損益係由其自行承擔、不得提供逾越要保人財力狀況或不合適之商品。\\n\\n(三)上述事實一及二違規事實明確，經核違反上開「保險業招攬及核保理賠辦法」第6條第1項第6款、第12款及第7條第1項第3款規定，依保險法第第171條之1第5項規定，核處罰鍰120萬元。\\n\\n十、繳款方式：\\n\\n(一)繳款期限：自本處分送達之次日起10日內繳納。\\n\\n(二)請依本會保險局檢附之繳款單注意事項辦理繳納。\\n\\n十一、注意事項：\\n\\n(一)受處分人如不服本處分，應於本處分送達之次日起30日內，依訴願法第58條第1項規定，繕具訴願書經由本會（新北市板橋區縣民大道二段7號18樓）向行政院提起訴願。惟依訴願法第93條第1項規定，除法律另有規定外，訴願之提起並不停止本處分之執行，受處分人仍應繳納罰鍰。\\n\\n(二)受處分人如逾本處分所定繳款期限不繳納罰鍰者，即依行政執行法第4條第1項但書規定，移送法務部行政執行署各分署辦理行政執行。\\n\\n瀏覽人次：\\n2833\\n\\u3000\\n更新日期：\\n2023-09-13\\n\\n公告資訊\\n\\n新聞稿\\n\\n重大政策\\n\\n榮譽專區\\n\\n重要公告\\n\\n個人資料保護專區\\n\\n裁罰案件\\n\\n更多...\\n\\n法規資訊\\n\\n最新法令函釋\\n\\n法規草案預告\\n\\n保險法及相關法規\\n\\n強制汽車責任保險法及相關法規\\n\\n行政規則\\n\\n金融資訊\\n\\n保險業務資訊揭露維護\\n\\n金融統計\\n\\n出版品\\n\\n消費者園地\\n\\n金融智慧網\\n\\n保險申訴及諮詢專區\\n\\n定型化契約範本\\n\\n消費者保護\\n\\n實務上死亡人壽保險金依實質課稅原則核課遺產稅案例及其參考特徵\\n\\n更多...\\n\\n便民服務\\n\\n民意信箱\\n\\n政風園地\\n\\n申辦案件流程\\n\\n保險申訴\\n\\n服務聯繫\\n\\n表單下載\\n\\n人身保險商品Q&A問答集\\n\\n更多...\\n\\n保險專區\\n\\n保險輔助人\\n\\n強制汽車責任保險\\n\\n住宅火災及地震保險\\n\\n保險業風險資本額制度\\n\\n保險商品審查\\n\\n保險業洗錢防制與反恐專區\\n\\nOIU專區\\n\\n更多...\\n\\n:::\\n\\n隱私權政策宣言 │\\n\\n資訊安全政策宣言 │\\n\\n本會網站資料開放宣告 │\\n\\n無障礙聲明 │\\n\\n訂閱電子報 │\\n\\n最新電子報\\n\\n造訪人數： 39321594\\n\\n更新日期：2023-10-26\\n\\n螢幕解析度建議：1024X768  金融監督管理委員會\\u3000保險局 版權所有\\n\\n220232 新北市板橋區縣民大道二段7號17樓\\n\\n金管會保險局電子地圖 \\r\\n  電話：(02)8968-0899\\n\\n本會駐紐約代表辦事處:1 E.42 Street, 13F, New York, NY 10017, U.S.A. 聯絡電話:(1-212) 317-7326\\n\\n本會駐倫敦代表辦事處:Level 17, 99 Bishopsgate, London EC2M 3XD, United Kingdom 聯絡電話:(44-20)7628-1501\\n\\n歡迎連結使用金融監督管理委員會網站資料。 引用時，請註明資料來源，請確保資料之完整性，不得任意增刪，亦不得作為商業使用。\\n\\n回到頁首', metadata={'source': 'https://www.ib.gov.tw/ch/home.jsp?id=42&parentpath=0,2&mcustomize=multimessages_view.jsp&dataserno=202309130002&dtable=Penalty'})]"
            ]
          },
          "metadata": {},
          "execution_count": 38
        }
      ]
    },
    {
      "cell_type": "code",
      "source": [
        "string=\"\".join(map(str, data))\n",
        "#start=\"\".join(map(str, data)).find(\"英屬百慕\")\n",
        "end=\"\".join(map(str, data)).rfind(\"公告資訊\")\n",
        "#string[start:end]\n",
        "string[30728:end]\n"
      ],
      "metadata": {
        "id": "qtXegmMNO8O3",
        "outputId": "b4f69e2e-8857-4ffa-f4fa-9dc82c5e87d7",
        "colab": {
          "base_uri": "https://localhost:8080/",
          "height": 139
        }
      },
      "id": "qtXegmMNO8O3",
      "execution_count": 40,
      "outputs": [
        {
          "output_type": "execute_result",
          "data": {
            "text/plain": [
              "'新光人壽保險股份有限公司辦理高齡者投保權益業務，核有違反保險法相關規定，依保險法核處罰鍰計新臺幣120萬元整。\\\\n\\\\n2023-09-13\\\\n\\\\n一、裁罰時間：112年9月13日\\\\n\\\\n二、受處分人：新光人壽保險股份有限公司\\\\n\\\\n三、營利事業統一編號：略\\\\n\\\\n四、地址：略\\\\n\\\\n五、代表人或管理人姓名：魏○○\\\\n\\\\n六、地址：略\\\\n\\\\n七、主旨：有關本會對該公司辦理高齡者及身心障礙者投保權益作業專案檢查報告(編號：111I041)所列缺失事項，核有違反保險法相關規定，依保險法第171條之1第5項規定核處罰鍰計新臺幣(以下同)120萬元整。\\\\n\\\\n八、事實：\\\\n\\\\n(一)該公司辦理高齡者投資型保險商品適合度評估作業，業務員於招攬高齡不識字之保戶，未確實填寫高齡投保評估量表：於評估量表之項目A學歷勾選之欄位為「不識字」，而於項目F認知評估，就保戶是否有識字能力顯著低下之問項，卻勾選「無上述情形」之欄位，顯與事實不相符；且該評估結果業務員認保戶「具有辨識不利投保權益之能力且理解投保保險商品內容之適合度，其認知能力適足」，然經調閱檢視保戶銷售後承保前電訪作業之歷次錄音逐字稿，保戶於前兩次電訪未能正確回答關懷提問之問項如「第一期投資標的?」及「風險承受是屬於保守型、穩健型還是積極型?」，顯示客戶之投保權益認知不足，與高齡評估量表之評估結果未一致。\\\\n\\\\n(二)該公司雖已訂定保險業招攬及核保相關作業程序，惟高齡關懷電訪作業流於形式，且未落實執行整體保戶商品適合度作業之評估，無從確保該商品符合保戶之投保需求及適合度。\\\\n\\\\n九、理由及法令依據：\\\\n\\\\n(一)依據保險法第148條之3第2項授權訂定之「保險業招攬及核保理賠辦法」第6條第1項第6款第4目規定略以，保險業訂定其內部之業務招攬處理制度及程序，至少應包括並明定保險商品適合度政策，其內容至少應包括要保人如係投保投資型保險商品，應考量要保人之投資屬性、風險承受能力、繳交保險費之資金來源，並確定要保人已確實瞭解投資型保險之投資損益係由其自行承擔，且不得提供逾越要保人財力狀況或不合適之商品，另依同條第1項第12款第1目之2規定略以，保險業訂定其內部之招攬處理制度及程序，應包括就年齡在六十五歲以上客戶購買有保單價值準備金之保險商品者，應另指派非銷售通路之人員，於銷售保險契約後且同意承保前，再進行電話訪問、視訊或遠距訪問，並應依保戶所購買保險商品不利於其投保權益之情形進行關懷提問，確認客戶瞭解保險商品特性對其之潛在影響及各種不利因素之作業程序。\\\\n\\\\n(二)另依「保險業招攬及核保理賠辦法」辦法第7條第1項第3款第4目規定略以，保險業訂定其內部之核保處理制度及程序，至少應包括並明定瞭解並評估要保人與被保險人保險需求及適合度之政策，要保人如係投保投資型保險商品，應遵循下列事項：已評估要保人之投資屬性、風險承受能力、繳交保險費之資金來源，並已評估要保人確實瞭解投資型保險之投資損益係由其自行承擔、不得提供逾越要保人財力狀況或不合適之商品。\\\\n\\\\n(三)上述事實一及二違規事實明確，經核違反上開「保險業招攬及核保理賠辦法」第6條第1項第6款、第12款及第7條第1項第3款規定，依保險法第第171條之1第5項規定，核處罰鍰120萬元。\\\\n\\\\n十、繳款方式：\\\\n\\\\n(一)繳款期限：自本處分送達之次日起10日內繳納。\\\\n\\\\n(二)請依本會保險局檢附之繳款單注意事項辦理繳納。\\\\n\\\\n十一、注意事項：\\\\n\\\\n(一)受處分人如不服本處分，應於本處分送達之次日起30日內，依訴願法第58條第1項規定，繕具訴願書經由本會（新北市板橋區縣民大道二段7號18樓）向行政院提起訴願。惟依訴願法第93條第1項規定，除法律另有規定外，訴願之提起並不停止本處分之執行，受處分人仍應繳納罰鍰。\\\\n\\\\n(二)受處分人如逾本處分所定繳款期限不繳納罰鍰者，即依行政執行法第4條第1項但書規定，移送法務部行政執行署各分署辦理行政執行。\\\\n\\\\n瀏覽人次：\\\\n2833\\\\n\\\\u3000\\\\n更新日期：\\\\n2023-09-13\\\\n\\\\n'"
            ],
            "application/vnd.google.colaboratory.intrinsic+json": {
              "type": "string"
            }
          },
          "metadata": {},
          "execution_count": 40
        }
      ]
    },
    {
      "cell_type": "code",
      "execution_count": null,
      "id": "b2d07ea5-9ff2-4c96-a8dc-92895d870b73",
      "metadata": {
        "tags": [],
        "id": "b2d07ea5-9ff2-4c96-a8dc-92895d870b73"
      },
      "outputs": [],
      "source": [
        "pn.extension('texteditor', template=\"bootstrap\", sizing_mode='stretch_width')\n",
        "pn.state.template.param.update(\n",
        "    main_max_width=\"690px\",\n",
        "    header_background=\"#F08080\",\n",
        ")"
      ]
    },
    {
      "cell_type": "code",
      "execution_count": null,
      "id": "763db4d0-3436-41d3-8b0f-e66ce16468cd",
      "metadata": {
        "tags": [],
        "id": "763db4d0-3436-41d3-8b0f-e66ce16468cd"
      },
      "outputs": [],
      "source": [
        "file_input = pn.widgets.FileInput(width=300)\n",
        "\n",
        "openaikey = pn.widgets.PasswordInput(\n",
        "    value=\"\", placeholder=\"Enter your OpenAI API Key here...\", width=300\n",
        ")\n",
        "prompt = pn.widgets.TextEditor(\n",
        "    value=\"\", placeholder=\"Enter your questions here...\", height=160, toolbar=False\n",
        ")\n",
        "run_button = pn.widgets.Button(name=\"Run!\")\n",
        "\n",
        "select_k = pn.widgets.IntSlider(\n",
        "    name=\"Number of relevant chunks\", start=1, end=5, step=1, value=2\n",
        ")\n",
        "select_chain_type = pn.widgets.RadioButtonGroup(\n",
        "    name='Chain type',\n",
        "    options=['stuff', 'map_reduce', \"refine\", \"map_rerank\"]\n",
        ")\n",
        "\n",
        "widgets = pn.Row(\n",
        "    pn.Column(prompt, run_button, margin=5),\n",
        "    pn.Card(\n",
        "        \"Chain type:\",\n",
        "        pn.Column(select_chain_type, select_k),\n",
        "        title=\"Advanced settings\", margin=10\n",
        "    ), width=600\n",
        ")"
      ]
    },
    {
      "cell_type": "code",
      "execution_count": null,
      "id": "9b83cc06-3401-498f-8f84-8a98370f3121",
      "metadata": {
        "tags": [],
        "id": "9b83cc06-3401-498f-8f84-8a98370f3121"
      },
      "outputs": [],
      "source": [
        "def qa(file, query, chain_type, k):\n",
        "    # load document\n",
        "    loader = PyPDFLoader(file)\n",
        "    documents = loader.load()\n",
        "    # split the documents into chunks\n",
        "    text_splitter = CharacterTextSplitter(chunk_size=1000, chunk_overlap=0)\n",
        "    texts = text_splitter.split_documents(documents)\n",
        "    # select which embeddings we want to use\n",
        "    embeddings = OpenAIEmbeddings()\n",
        "    # create the vectorestore to use as the index\n",
        "    db = Chroma.from_documents(texts, embeddings)\n",
        "    # expose this index in a retriever interface\n",
        "    retriever = db.as_retriever(search_type=\"similarity\", search_kwargs={\"k\": k})\n",
        "    # create a chain to answer questions\n",
        "    qa = RetrievalQA.from_chain_type(\n",
        "        llm=OpenAI(), chain_type=chain_type, retriever=retriever, return_source_documents=True)\n",
        "    result = qa({\"query\": query})\n",
        "    print(result['result'])\n",
        "    return result"
      ]
    },
    {
      "cell_type": "code",
      "execution_count": null,
      "id": "2722f43b-daf6-4d17-a842-41203ae9b140",
      "metadata": {
        "tags": [],
        "id": "2722f43b-daf6-4d17-a842-41203ae9b140"
      },
      "outputs": [],
      "source": [
        "# result = qa(\"example.pdf\", \"what is the total number of AI publications?\")"
      ]
    },
    {
      "cell_type": "code",
      "execution_count": null,
      "id": "60e1b3d3-c0d2-4260-ae0c-26b03f1b8824",
      "metadata": {
        "id": "60e1b3d3-c0d2-4260-ae0c-26b03f1b8824"
      },
      "outputs": [],
      "source": [
        "convos = []  # store all panel objects in a list\n",
        "\n",
        "def qa_result(_):\n",
        "    os.environ[\"OPENAI_API_KEY\"] = openaikey.value\n",
        "\n",
        "    # save pdf file to a temp file\n",
        "    if file_input.value is not None:\n",
        "        file_input.save(\"/.cache/temp.pdf\")\n",
        "\n",
        "        prompt_text = prompt.value\n",
        "        if prompt_text:\n",
        "            result = qa(file=\"/.cache/temp.pdf\", query=prompt_text, chain_type=select_chain_type.value, k=select_k.value)\n",
        "            convos.extend([\n",
        "                pn.Row(\n",
        "                    pn.panel(\"\\U0001F60A\", width=10),\n",
        "                    prompt_text,\n",
        "                    width=600\n",
        "                ),\n",
        "                pn.Row(\n",
        "                    pn.panel(\"\\U0001F916\", width=10),\n",
        "                    pn.Column(\n",
        "                        result[\"result\"],\n",
        "                        \"Relevant source text:\",\n",
        "                        pn.pane.Markdown('\\n--------------------------------------------------------------------\\n'.join(doc.page_content for doc in result[\"source_documents\"]))\n",
        "                    )\n",
        "                )\n",
        "            ])\n",
        "            #return convos\n",
        "    return pn.Column(*convos, margin=15, width=575, min_height=400)\n"
      ]
    },
    {
      "cell_type": "code",
      "execution_count": null,
      "id": "c3a70857-0b98-4f62-a9c0-b62ca42b474c",
      "metadata": {
        "tags": [],
        "id": "c3a70857-0b98-4f62-a9c0-b62ca42b474c"
      },
      "outputs": [],
      "source": [
        "qa_interactive = pn.panel(\n",
        "    pn.bind(qa_result, run_button),\n",
        "    loading_indicator=True,\n",
        ")"
      ]
    },
    {
      "cell_type": "code",
      "execution_count": null,
      "id": "228e2b42-b1ed-43af-b923-031a70241ab0",
      "metadata": {
        "tags": [],
        "id": "228e2b42-b1ed-43af-b923-031a70241ab0"
      },
      "outputs": [],
      "source": [
        "output = pn.WidgetBox('*Output will show up here:*', qa_interactive, width=630, scroll=True)"
      ]
    },
    {
      "cell_type": "code",
      "execution_count": null,
      "id": "1b0ec253-2bcd-4f91-96d8-d8456e900a58",
      "metadata": {
        "tags": [],
        "id": "1b0ec253-2bcd-4f91-96d8-d8456e900a58"
      },
      "outputs": [],
      "source": [
        "# layout\n",
        "pn.Column(\n",
        "    pn.pane.Markdown(\"\"\"\n",
        "    ## \\U0001F60A! Question Answering with your PDF file\n",
        "\n",
        "    1) Upload a PDF. 2) Enter OpenAI API key. This costs $. Set up billing at [OpenAI](https://platform.openai.com/account). 3) Type a question and click \"Run\".\n",
        "\n",
        "    \"\"\"),\n",
        "    pn.Row(file_input,openaikey),\n",
        "    output,\n",
        "    widgets\n",
        "\n",
        ").servable()"
      ]
    }
  ],
  "metadata": {
    "kernelspec": {
      "display_name": "Python 3 (ipykernel)",
      "language": "python",
      "name": "python3"
    },
    "language_info": {
      "codemirror_mode": {
        "name": "ipython",
        "version": 3
      },
      "file_extension": ".py",
      "mimetype": "text/x-python",
      "name": "python",
      "nbconvert_exporter": "python",
      "pygments_lexer": "ipython3",
      "version": "3.10.10"
    },
    "colab": {
      "provenance": [],
      "include_colab_link": true
    }
  },
  "nbformat": 4,
  "nbformat_minor": 5
}